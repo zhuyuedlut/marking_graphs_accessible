{
 "cells": [
  {
   "cell_type": "code",
   "execution_count": 1,
   "metadata": {
    "collapsed": true,
    "ExecuteTime": {
     "end_time": "2023-05-18T13:52:26.845168Z",
     "start_time": "2023-05-18T13:52:25.343769Z"
    }
   },
   "outputs": [
    {
     "name": "stderr",
     "output_type": "stream",
     "text": [
      "/home/zhuyuedlut/anaconda3/envs/llm/lib/python3.10/site-packages/tqdm/auto.py:21: TqdmWarning: IProgress not found. Please update jupyter and ipywidgets. See https://ipywidgets.readthedocs.io/en/stable/user_install.html\n",
      "  from .autonotebook import tqdm as notebook_tqdm\n"
     ]
    }
   ],
   "source": [
    "import json\n",
    "import os\n",
    "import re\n",
    "from collections import Counter\n",
    "from itertools import chain\n",
    "from pathlib import Path\n",
    "from typing import List, Dict, Union, Tuple, Any\n",
    "\n",
    "import matplotlib.pyplot as plt\n",
    "import numpy as np\n",
    "import pandas as pd\n",
    "import torch\n",
    "from PIL import Image\n",
    "from datasets import Dataset\n",
    "from datasets import Image as ds_img\n",
    "from polyleven import levenshtein  #\n",
    "from sklearn.model_selection import StratifiedKFold\n",
    "from torch.utils.data import DataLoader\n",
    "from transformers import (\n",
    "    DonutProcessor,\n",
    "    VisionEncoderDecoderConfig,\n",
    "    VisionEncoderDecoderModel\n",
    ")"
   ]
  },
  {
   "cell_type": "code",
   "execution_count": 2,
   "outputs": [],
   "source": [
    "data_dir = Path(\"./data/train\")\n",
    "\n",
    "images_path = data_dir / \"images\"\n",
    "train_json_files = list((data_dir / \"annotations\").glob(\"*.json\"))"
   ],
   "metadata": {
    "collapsed": false,
    "ExecuteTime": {
     "end_time": "2023-05-18T13:52:26.972322Z",
     "start_time": "2023-05-18T13:52:26.831324Z"
    }
   }
  },
  {
   "cell_type": "code",
   "execution_count": 3,
   "outputs": [],
   "source": [
    "class CFG:\n",
    "    # General\n",
    "    debug = False\n",
    "    num_proc = 2\n",
    "    num_workers = 24\n",
    "    gpus = 2\n",
    "\n",
    "    # Data\n",
    "    max_length = 1024\n",
    "    image_height = 560\n",
    "    image_width = 560\n",
    "\n",
    "    # Training\n",
    "    epochs = 2\n",
    "    val_check_interval = 1.0  # how many times we want to validate during an epoch\n",
    "    check_val_every_n_epoch = 1\n",
    "    gradient_clip_val = 1.0\n",
    "    lr = 3e-5\n",
    "    lr_scheduler_type = \"cosine\"\n",
    "    num_warmup_steps = 100\n",
    "    seed = 42\n",
    "    warmup_steps = 300\n",
    "    output_path = \"output\"\n",
    "    log_steps = 200\n",
    "    batch_size = 2\n",
    "    use_wandb = True"
   ],
   "metadata": {
    "collapsed": false,
    "ExecuteTime": {
     "end_time": "2023-05-18T13:52:26.975446Z",
     "start_time": "2023-05-18T13:52:26.973517Z"
    }
   }
  },
  {
   "cell_type": "code",
   "execution_count": 4,
   "outputs": [],
   "source": [
    "# Let's add chart types as special tokens and a special BOS token\n",
    "\n",
    "PROMPT_TOKEN = \"<|PROMPT|>\"\n",
    "X_START = \"<x_start>\"\n",
    "X_END = \"<x_end>\"\n",
    "Y_START = \"<y_start>\"\n",
    "Y_END = \"<y_end>\"\n",
    "\n",
    "SEPARATOR_TOKENS = [\n",
    "    PROMPT_TOKEN,\n",
    "    X_START,\n",
    "    X_END,\n",
    "    Y_START,\n",
    "    Y_END,\n",
    "]\n",
    "\n",
    "LINE_TOKEN = \"<line>\"\n",
    "VERTICAL_BAR_TOKEN = \"<vertical_bar>\"\n",
    "HORIZONTAL_BAR_TOKEN = \"<horizontal_bar>\"\n",
    "SCATTER_TOKEN = \"<scatter>\"\n",
    "DOT_TOKEN = \"<dot>\"\n",
    "\n",
    "CHART_TYPE_TOKENS = [\n",
    "    LINE_TOKEN,\n",
    "    VERTICAL_BAR_TOKEN,\n",
    "    HORIZONTAL_BAR_TOKEN,\n",
    "    SCATTER_TOKEN,\n",
    "    DOT_TOKEN,\n",
    "]\n",
    "\n",
    "new_tokens = SEPARATOR_TOKENS + CHART_TYPE_TOKENS"
   ],
   "metadata": {
    "collapsed": false,
    "ExecuteTime": {
     "end_time": "2023-05-18T13:52:27.020293Z",
     "start_time": "2023-05-18T13:52:26.977058Z"
    }
   }
  },
  {
   "cell_type": "code",
   "execution_count": 5,
   "outputs": [],
   "source": [
    "def round_float(value: Union[int, float, str]) -> Union[str, float]:\n",
    "    \"\"\"\n",
    "    Convert a float value to a string with the specified number of decimal places.\n",
    "    If there is more than 1 digit in the integer, then we will truncate to 1 decimal.\n",
    "    Otherwise, will truncate to 4 decimals.\n",
    "\n",
    "    Args:\n",
    "        value (int, float, str): The float value to convert\n",
    "\n",
    "    Returns:\n",
    "        str: The rounded float value as a string\n",
    "    \"\"\"\n",
    "    if isinstance(value, float):\n",
    "        value = str(value)\n",
    "\n",
    "        if \".\" in value:\n",
    "            integer, decimal = value.split(\".\")\n",
    "            if abs(float(integer)) > 1:\n",
    "                decimal = decimal[:1]\n",
    "            else:\n",
    "                decimal = decimal[:4]\n",
    "\n",
    "            value = integer + \".\" + decimal\n",
    "    return value\n",
    "\n",
    "\n",
    "def is_nan(value: Union[int, float, str]) -> bool:\n",
    "    \"\"\"\n",
    "    Check if a value is NaN (not a number).\n",
    "\n",
    "    Args:\n",
    "        value (int, float, str): The value to check\n",
    "\n",
    "    Returns:\n",
    "        bool: True if the value is NaN, False otherwise\n",
    "    \"\"\"\n",
    "    return isinstance(value, float) and str(value) == \"nan\"\n",
    "\n",
    "\n",
    "def get_gt_string_and_xy(filepath: Union[str, os.PathLike]) -> Dict[str, str]:\n",
    "    \"\"\"\n",
    "    Get the ground truth string and x-y data from the given JSON file.\n",
    "\n",
    "    Args:\n",
    "        filepath (str): The path to the JSON file\n",
    "\n",
    "    Returns:\n",
    "        dict: A dictionary containing the ground truth string, x-y data, chart type, id, and source\n",
    "    \"\"\"\n",
    "    filepath = Path(filepath)\n",
    "\n",
    "    with open(filepath) as fp:\n",
    "        data = json.load(fp)\n",
    "\n",
    "    data_series = data[\"data-series\"]\n",
    "\n",
    "    all_x, all_y = [], []\n",
    "\n",
    "    for d in data_series:\n",
    "        x = d[\"x\"]\n",
    "        y = d[\"y\"]\n",
    "\n",
    "        x = round_float(x)\n",
    "        y = round_float(y)\n",
    "\n",
    "        # Ignore nan values\n",
    "        if is_nan(x) or is_nan(y):\n",
    "            continue\n",
    "\n",
    "        all_x.append(x)\n",
    "        all_y.append(y)\n",
    "\n",
    "    chart_type = f\"<{data['chart-type']}>\"\n",
    "    x_str = X_START + \";\".join(list(map(str, all_x))) + X_END\n",
    "    y_str = Y_START + \";\".join(list(map(str, all_y))) + Y_END\n",
    "\n",
    "    gt_string = PROMPT_TOKEN + chart_type + x_str + y_str\n",
    "\n",
    "    return {\n",
    "        \"ground_truth\": gt_string,\n",
    "        \"x\": json.dumps(all_x),\n",
    "        \"y\": json.dumps(all_y),\n",
    "        \"chart-type\": data[\"chart-type\"],\n",
    "        \"id\": filepath.stem,\n",
    "        \"source\": data[\"source\"],\n",
    "    }"
   ],
   "metadata": {
    "collapsed": false,
    "ExecuteTime": {
     "end_time": "2023-05-18T13:52:27.022941Z",
     "start_time": "2023-05-18T13:52:27.020522Z"
    }
   }
  },
  {
   "cell_type": "code",
   "execution_count": 6,
   "outputs": [
    {
     "data": {
      "text/plain": "{'ground_truth': '<|PROMPT|><line><x_start>0;2;4;6;8;10;12<x_end><y_start>45.8;45.9;46.3;46.1;46.1;47.0;47.4<y_end>',\n 'x': '[\"0\", \"2\", \"4\", \"6\", \"8\", \"10\", \"12\"]',\n 'y': '[\"45.8\", \"45.9\", \"46.3\", \"46.1\", \"46.1\", \"47.0\", \"47.4\"]',\n 'chart-type': 'line',\n 'id': '000d269c8e26',\n 'source': 'generated'}"
     },
     "execution_count": 6,
     "metadata": {},
     "output_type": "execute_result"
    }
   ],
   "source": [
    "get_gt_string_and_xy(data_dir / \"annotations\" / \"000d269c8e26.json\")"
   ],
   "metadata": {
    "collapsed": false,
    "ExecuteTime": {
     "end_time": "2023-05-18T13:52:27.064298Z",
     "start_time": "2023-05-18T13:52:27.020621Z"
    }
   }
  },
  {
   "cell_type": "code",
   "execution_count": 7,
   "outputs": [
    {
     "name": "stderr",
     "output_type": "stream",
     "text": [
      "Found cached dataset generator (/home/zhuyuedlut/.cache/huggingface/datasets/generator/default-91d520e916ad676a/0.0.0)\n"
     ]
    }
   ],
   "source": [
    "def gen_data(files: List[Union[str, os.PathLike]]) -> Dict[str, str]:\n",
    "    \"\"\"\n",
    "    This function takes a list of json files and returns a generator that yields a\n",
    "    dictionary with the ground truth string and the path to the image.\n",
    "\n",
    "    Args:\n",
    "        files (list): A list of json files\n",
    "\n",
    "    Returns:\n",
    "        generator: A generator that yields a dictionary with the ground truth string and\n",
    "            the path to the corresponding image.\n",
    "    \"\"\"\n",
    "\n",
    "    for f in files:\n",
    "        yield {\n",
    "            **get_gt_string_and_xy(f),\n",
    "            \"image_path\": str(images_path / f\"{f.stem}.jpg\"),\n",
    "        }\n",
    "\n",
    "\n",
    "ds = Dataset.from_generator(\n",
    "    gen_data, gen_kwargs={\"files\": train_json_files}, num_proc=CFG.num_proc\n",
    ")"
   ],
   "metadata": {
    "collapsed": false,
    "ExecuteTime": {
     "end_time": "2023-05-18T13:52:28.640170Z",
     "start_time": "2023-05-18T13:52:27.064483Z"
    }
   }
  },
  {
   "cell_type": "code",
   "execution_count": 8,
   "outputs": [
    {
     "name": "stderr",
     "output_type": "stream",
     "text": [
      "Loading cached processed dataset at /home/zhuyuedlut/.cache/huggingface/datasets/generator/default-91d520e916ad676a/0.0.0/cache-5ecfca50b5a69180_*_of_00002.arrow\n"
     ]
    }
   ],
   "source": [
    "def add_image_sizes(examples: Dict[str, Union[str, os.PathLike]]) -> Dict[str, List[int]]:\n",
    "    \"\"\"\n",
    "    This function takes a dictionary of examples and adds the width and height of the\n",
    "    image to the dictionary. This is to be used with the `Dataset.map` function.\n",
    "\n",
    "    Args:\n",
    "        examples (dict): A dictionary of examples (from `map` function)\n",
    "\n",
    "    Returns:\n",
    "        dict: The dictionary with the width and height of the image added\n",
    "    \"\"\"\n",
    "\n",
    "    sizes = [Image.open(x).size for x in examples[\"image_path\"]]\n",
    "\n",
    "    width, height = list(zip(*sizes))\n",
    "\n",
    "    return {\n",
    "        \"width\": list(width),\n",
    "        \"height\": list(height),\n",
    "    }\n",
    "\n",
    "\n",
    "ds = ds.map(add_image_sizes, batched=True, num_proc=CFG.num_proc)"
   ],
   "metadata": {
    "collapsed": false,
    "ExecuteTime": {
     "end_time": "2023-05-18T13:52:28.687052Z",
     "start_time": "2023-05-18T13:52:28.639921Z"
    }
   }
  },
  {
   "cell_type": "code",
   "execution_count": 9,
   "outputs": [
    {
     "data": {
      "text/plain": "<Figure size 1000x1000 with 1 Axes>",
      "image/png": "[encoded data removed]"
     },
     "metadata": {},
     "output_type": "display_data"
    }
   ],
   "source": [
    "# Most fall within 560 x 560\n",
    "plt.figure(figsize=(10, 10))\n",
    "\n",
    "plt.scatter(x=ds[\"width\"], y=ds[\"height\"], marker=\"o\", alpha=0.5)\n",
    "\n",
    "# Add axis labels\n",
    "plt.xlabel(\"Width\")\n",
    "plt.ylabel(\"Height\")\n",
    "\n",
    "# Add a title\n",
    "plt.title(\"Image Dimensions\")\n",
    "\n",
    "# Add gridlines\n",
    "plt.grid(True)\n",
    "\n",
    "# Set aspect ratio to be equal\n",
    "plt.gca().set_aspect(\"equal\", adjustable=\"box\")\n",
    "\n",
    "# Show the plot\n",
    "plt.show()"
   ],
   "metadata": {
    "collapsed": false,
    "ExecuteTime": {
     "end_time": "2023-05-18T13:52:29.071571Z",
     "start_time": "2023-05-18T13:52:28.683174Z"
    }
   }
  },
  {
   "cell_type": "code",
   "execution_count": 10,
   "outputs": [
    {
     "name": "stdout",
     "output_type": "stream",
     "text": [
      "560 560 1024\n"
     ]
    }
   ],
   "source": [
    "config = VisionEncoderDecoderConfig.from_pretrained(\"/home/zhuyuedlut/Pretrained_Model/donut-base\")\n",
    "config.encoder.image_size = (CFG.image_height, CFG.image_width)\n",
    "config.decoder.max_length = CFG.max_length\n",
    "\n",
    "print(CFG.image_height, CFG.image_width, CFG.max_length)"
   ],
   "metadata": {
    "collapsed": false,
    "ExecuteTime": {
     "end_time": "2023-05-18T13:52:29.156820Z",
     "start_time": "2023-05-18T13:52:29.052876Z"
    }
   }
  },
  {
   "cell_type": "code",
   "execution_count": 11,
   "outputs": [
    {
     "name": "stderr",
     "output_type": "stream",
     "text": [
      "Could not find image processor class in the image processor config or the model config. Loading based on pattern matching with the model's feature extractor configuration.\n"
     ]
    }
   ],
   "source": [
    "processor = DonutProcessor.from_pretrained(\"/home/zhuyuedlut/Pretrained_Model/donut-base\")\n",
    "processor.image_processor.size = {\n",
    "    \"height\": CFG.image_height,\n",
    "    \"width\": CFG.image_width,\n",
    "}"
   ],
   "metadata": {
    "collapsed": false,
    "ExecuteTime": {
     "end_time": "2023-05-18T13:52:29.197233Z",
     "start_time": "2023-05-18T13:52:29.087449Z"
    }
   }
  },
  {
   "cell_type": "code",
   "execution_count": 12,
   "outputs": [
    {
     "name": "stderr",
     "output_type": "stream",
     "text": [
      "                                                                                \r"
     ]
    }
   ],
   "source": [
    "def check_for_unk(examples: Dict[str, str]) -> Dict[str, List[str]]:\n",
    "    \"\"\"\n",
    "    Check for unknown tokens in the given examples.\n",
    "\n",
    "    This function takes a dictionary containing a list of ground truth texts and\n",
    "    tokenizes them using the processor's tokenizer. It then checks for any unknown\n",
    "    tokens in the tokenized text and returns a dictionary containing a list of the\n",
    "    unknown tokens for each example.\n",
    "\n",
    "    Args:\n",
    "        examples (dict): A dictionary containing a list of ground truth texts.\n",
    "            Example: {\"ground_truth\": [\"text1\", \"text2\", ...]}\n",
    "\n",
    "    Returns:\n",
    "        dict: A dictionary containing a list of unknown tokens for each example.\n",
    "            Example: {\"unk_tokens\": [[\"unk1\", \"unk2\"], [], [\"unk3\"], ...]}\n",
    "    \"\"\"\n",
    "\n",
    "    texts = examples[\"ground_truth\"]\n",
    "\n",
    "    ids = processor.tokenizer(texts).input_ids\n",
    "    tokens = [processor.tokenizer.tokenize(x, add_special_tokens=True) for x in texts]\n",
    "\n",
    "    unk_tokens = []\n",
    "    for example_ids, example_tokens in zip(ids, tokens):\n",
    "        example_unk_tokens = []\n",
    "        for i in range(len(example_ids)):\n",
    "            if example_ids[i] == processor.tokenizer.unk_token_id:\n",
    "                example_unk_tokens.append(example_tokens[i])\n",
    "\n",
    "        unk_tokens.append(example_unk_tokens)\n",
    "\n",
    "    return {\"unk_tokens\": unk_tokens}\n",
    "\n",
    "\n",
    "unk = ds.map(check_for_unk, batched=True, num_proc=CFG.num_proc)"
   ],
   "metadata": {
    "collapsed": false,
    "ExecuteTime": {
     "end_time": "2023-05-18T13:52:55.093632Z",
     "start_time": "2023-05-18T13:52:47.282048Z"
    }
   }
  },
  {
   "cell_type": "code",
   "execution_count": 13,
   "outputs": [
    {
     "name": "stderr",
     "output_type": "stream",
     "text": [
      "                                                                                     "
     ]
    },
    {
     "name": "stdout",
     "output_type": "stream",
     "text": [
      "37712\n"
     ]
    },
    {
     "name": "stderr",
     "output_type": "stream",
     "text": [
      "\r"
     ]
    },
    {
     "data": {
      "text/plain": "{'ground_truth': '<|PROMPT|><vertical_bar><x_start>1950;1951;1952;1953;1954;1955;1956;1957;1958;1959;1960;1961;1962<x_end><y_start>99.9;99.9;96.6;95.1;99.9;99.5;100.3;98.1;100.5;99.8;97.5;96.2;93.4<y_end>',\n 'x': '[\"1950\", \"1951\", \"1952\", \"1953\", \"1954\", \"1955\", \"1956\", \"1957\", \"1958\", \"1959\", \"1960\", \"1961\", \"1962\"]',\n 'y': '[\"99.9\", \"99.9\", \"96.6\", \"95.1\", \"99.9\", \"99.5\", \"100.3\", \"98.1\", \"100.5\", \"99.8\", \"97.5\", \"96.2\", \"93.4\"]',\n 'chart-type': 'vertical_bar',\n 'id': '6b507062a44e',\n 'source': 'generated',\n 'image_path': 'data/train/images/6b507062a44e.jpg',\n 'width': 472,\n 'height': 292,\n 'unk_tokens': ['1', '1']}"
     },
     "execution_count": 13,
     "metadata": {},
     "output_type": "execute_result"
    }
   ],
   "source": [
    "# Let's look at only the examples with unknown tokens\n",
    "unk = unk.filter(lambda x: len(x[\"unk_tokens\"]) > 0, num_proc=CFG.num_proc)\n",
    "\n",
    "print(len(unk))\n",
    "\n",
    "unk[0]"
   ],
   "metadata": {
    "collapsed": false,
    "ExecuteTime": {
     "end_time": "2023-05-18T13:52:55.436802Z",
     "start_time": "2023-05-18T13:52:55.092238Z"
    }
   }
  },
  {
   "cell_type": "code",
   "execution_count": 14,
   "outputs": [
    {
     "data": {
      "text/plain": "Counter({'1': 80183, 'ދ': 1})"
     },
     "execution_count": 14,
     "metadata": {},
     "output_type": "execute_result"
    }
   ],
   "source": [
    "# Let's count which tokens show up most often as unknowns\n",
    "all_unk_tokens = [x for y in unk[\"unk_tokens\"] for x in y]\n",
    "\n",
    "Counter(all_unk_tokens)"
   ],
   "metadata": {
    "collapsed": false,
    "ExecuteTime": {
     "end_time": "2023-05-18T13:52:55.642075Z",
     "start_time": "2023-05-18T13:52:55.437042Z"
    }
   }
  },
  {
   "cell_type": "code",
   "execution_count": 15,
   "outputs": [
    {
     "name": "stdout",
     "output_type": "stream",
     "text": [
      "ids: [0, 50891, 39539, 3, 1314, 4314, 2]\n",
      "tokenized: ['▁0', '.', '1', '▁1', '▁1990']\n",
      "decoded: <s> 0.<unk> 1 1990</s>\n",
      "unk id: 3\n",
      "11 tokens added\n"
     ]
    }
   ],
   "source": [
    "example_str = \"0.1 1 1990\"\n",
    "\n",
    "temp_ids = processor.tokenizer(example_str).input_ids\n",
    "print(\"ids:\", temp_ids)\n",
    "print(\"tokenized:\", processor.tokenizer.tokenize(example_str))\n",
    "print(\"decoded:\", processor.tokenizer.decode(temp_ids))\n",
    "print(\"unk id:\", processor.tokenizer.unk_token_id)\n",
    "\n",
    "# Adding these tokens should mean that there should be very few unknown tokens\n",
    "num_added = processor.tokenizer.add_tokens([\"<one>\"] + new_tokens)\n",
    "print(num_added, \"tokens added\")\n",
    "\n",
    "config.pad_token_id = processor.tokenizer.pad_token_id\n",
    "config.decoder_start_token_id = processor.tokenizer.convert_tokens_to_ids([PROMPT_TOKEN])[0]"
   ],
   "metadata": {
    "collapsed": false,
    "ExecuteTime": {
     "end_time": "2023-05-18T13:52:55.644439Z",
     "start_time": "2023-05-18T13:52:55.642789Z"
    }
   }
  },
  {
   "cell_type": "code",
   "execution_count": 16,
   "outputs": [],
   "source": [
    "from functools import partial\n",
    "\n",
    "one_token_id = processor.tokenizer(\"<one>\", add_special_tokens=False).input_ids[0]\n",
    "unk_token_id = processor.tokenizer.unk_token_id\n",
    "\n",
    "\n",
    "def replace_unk_tokens_with_one(example_ids: List[int], example_tokens: List[str], one_token_id: int,\n",
    "                                unk_token_id: int) -> List[int]:\n",
    "    \"\"\"\n",
    "    Replace unknown tokens that represent \"1\" with the correct token id.\n",
    "\n",
    "    Args:\n",
    "        example_ids (list): List of token ids for a given example\n",
    "        example_tokens (list): List of tokens for the same given example\n",
    "        one_token_id (int): Token id for the \"<one>\" token\n",
    "        unk_token_id (int): Token id for the unknown token\n",
    "\n",
    "    Returns:\n",
    "        list: The updated list of token ids with the correct token id for \"1\"\n",
    "    \"\"\"\n",
    "\n",
    "    temp_ids = []\n",
    "    for id_, token in zip(example_ids, example_tokens):\n",
    "        if id_ == unk_token_id and token == \"1\":\n",
    "            id_ = one_token_id\n",
    "        temp_ids.append(id_)\n",
    "    return temp_ids\n",
    "\n",
    "\n",
    "def preprocess(examples: Dict[str, str], processor: DonutProcessor, CFG: CFG) -> Dict[\n",
    "    str, Union[torch.Tensor, List[int], List[str]]]:\n",
    "    \"\"\"\n",
    "    Preprocess the given examples.\n",
    "\n",
    "    This function processes the input examples by tokenizing the texts, replacing\n",
    "    any unknown tokens that represent \"1\" with the correct token id, and loading\n",
    "    the images.\n",
    "\n",
    "    Args:\n",
    "        examples (dict): A dictionary containing ground truth texts, image paths, and ids\n",
    "        processor: An object responsible for tokenizing texts and processing images\n",
    "        CFG: A configuration object containing settings and hyperparameters\n",
    "\n",
    "    Returns:\n",
    "        dict: A dictionary containing preprocessed images, token ids, and ids\n",
    "    \"\"\"\n",
    "\n",
    "    pixel_values = []\n",
    "\n",
    "    texts = examples[\"ground_truth\"]\n",
    "\n",
    "    ids = processor.tokenizer(\n",
    "        texts,\n",
    "        add_special_tokens=False,\n",
    "        max_length=CFG.max_length,\n",
    "        padding=True,\n",
    "        truncation=True,\n",
    "    ).input_ids\n",
    "\n",
    "    if isinstance(texts, str):\n",
    "        texts = [texts]\n",
    "\n",
    "    tokens = [processor.tokenizer.tokenize(text, add_special_tokens=False) for text in texts]\n",
    "\n",
    "    one_token_id = processor.tokenizer(\"<one>\", add_special_tokens=False).input_ids[0]\n",
    "    unk_token_id = processor.tokenizer.unk_token_id\n",
    "\n",
    "    final_ids = [\n",
    "        replace_unk_tokens_with_one(example_ids, example_tokens, one_token_id, unk_token_id)\n",
    "        for example_ids, example_tokens in zip(ids, tokens)\n",
    "    ]\n",
    "\n",
    "    for sample in examples[\"image_path\"]:\n",
    "        pixel_values.append(processor(sample, random_padding=True).pixel_values)\n",
    "\n",
    "    return {\n",
    "        \"pixel_values\": torch.tensor(np.vstack(pixel_values)),\n",
    "        \"input_ids\": final_ids,\n",
    "        \"id\": examples[\"id\"],\n",
    "    }\n",
    "\n",
    "\n",
    "image_ds = ds.cast_column(\"image_path\", ds_img())\n",
    "image_ds.set_transform(partial(preprocess, processor=processor, CFG=CFG))"
   ],
   "metadata": {
    "collapsed": false,
    "ExecuteTime": {
     "end_time": "2023-05-18T13:52:55.692146Z",
     "start_time": "2023-05-18T13:52:55.648496Z"
    }
   }
  },
  {
   "cell_type": "code",
   "execution_count": 17,
   "outputs": [
    {
     "name": "stdout",
     "output_type": "stream",
     "text": [
      "torch.Size([3, 3, 560, 560])\n",
      "<|PROMPT|><dot><x_start> 1-10;11-20;21-30;31-40;41-50;51-52<x_end><y_start> 8;5;9;9;6;7<y_end>\n",
      "35\n",
      "['<|PROMPT|>', '<dot>', '<x_start>', '▁1', '-10', ';', '11', '-20', ';', '21', '-30', ';', '31', '-40', ';', '41', '-50', ';', '51', '-', '52', '<x_end>', '<y_start>', '▁8', ';', '5', ';', '9', ';', '9', ';', '6', ';', '7', '<y_end>']\n"
     ]
    }
   ],
   "source": [
    "sample = image_ds[[0, 1, 2]]\n",
    "\n",
    "print(sample[\"pixel_values\"].shape)\n",
    "print(processor.decode(sample[\"input_ids\"][2]))\n",
    "print(len(sample[\"input_ids\"][2]))\n",
    "print(processor.tokenizer.convert_ids_to_tokens(sample[\"input_ids\"][2]))"
   ],
   "metadata": {
    "collapsed": false,
    "ExecuteTime": {
     "end_time": "2023-05-18T13:52:55.761973Z",
     "start_time": "2023-05-18T13:52:55.691999Z"
    }
   }
  },
  {
   "cell_type": "code",
   "execution_count": 18,
   "outputs": [
    {
     "name": "stderr",
     "output_type": "stream",
     "text": [
      "Loading cached processed dataset at /home/zhuyuedlut/.cache/huggingface/datasets/generator/default-91d520e916ad676a/0.0.0/cache-529bef743ffdbca2_*_of_00002.arrow\n",
      "Loading cached processed dataset at /home/zhuyuedlut/.cache/huggingface/datasets/generator/default-91d520e916ad676a/0.0.0/cache-3021d98f9bbc7f85_*_of_00002.arrow\n"
     ]
    },
    {
     "name": "stdout",
     "output_type": "stream",
     "text": [
      "Counter({'vertical_bar': 457, 'line': 423, 'scatter': 165, 'horizontal_bar': 73})\n",
      "Counter({'vertical_bar': 115, 'line': 106, 'scatter': 41, 'horizontal_bar': 18})\n",
      "Counter({'vertical_bar': 114, 'line': 105, 'scatter': 42, 'horizontal_bar': 19})\n",
      "Counter({'vertical_bar': 114, 'line': 106, 'scatter': 41, 'horizontal_bar': 18})\n",
      "Counter({'vertical_bar': 114, 'line': 106, 'scatter': 41, 'horizontal_bar': 18})\n"
     ]
    }
   ],
   "source": [
    "# separate by extracted and generated\n",
    "\n",
    "extracted_ds = ds.filter(lambda x: x[\"source\"] == \"extracted\", num_proc=CFG.num_proc)\n",
    "generated_ds = ds.filter(lambda x: x[\"source\"] == \"generated\", num_proc=CFG.num_proc)\n",
    "\n",
    "chart_types = extracted_ds[\"chart-type\"]\n",
    "\n",
    "print(Counter(chart_types))\n",
    "\n",
    "skf = StratifiedKFold(n_splits=4)\n",
    "\n",
    "fold_idxs = []\n",
    "\n",
    "for _, val_idxs in skf.split(chart_types, y=chart_types):\n",
    "    fold_idxs.append(val_idxs)\n",
    "\n",
    "for n, idxs in enumerate(fold_idxs):\n",
    "    print(Counter([chart_types[i] for i in idxs]))\n",
    "    if n > 3:\n",
    "        break"
   ],
   "metadata": {
    "collapsed": false,
    "ExecuteTime": {
     "end_time": "2023-05-18T13:52:58.215089Z",
     "start_time": "2023-05-18T13:52:58.157740Z"
    }
   }
  },
  {
   "cell_type": "code",
   "execution_count": 19,
   "outputs": [
    {
     "name": "stdout",
     "output_type": "stream",
     "text": [
      "vertical_bar\n",
      "['2005', '2006', '2007', '2008', '2009', '2010', '2011', '2012', '2013', '2014', '2015', '2016']\n",
      "[1204, 1204, 4334, 4584, 5210, 12222, 22112, 21486, 23490, 24116, 18732, 15978]\n",
      "423845dcb3b2\n",
      "Counter({'vertical_bar': 115, 'line': 106, 'scatter': 41, 'horizontal_bar': 18})\n"
     ]
    }
   ],
   "source": [
    "# Combine generated and some of the extracted examples into the train set\n",
    "\n",
    "from datasets import concatenate_datasets\n",
    "\n",
    "fold = 0\n",
    "\n",
    "train_extracted = extracted_ds.select(\n",
    "    list(chain(*[x for i, x in enumerate(fold_idxs) if i != fold]))\n",
    ")\n",
    "train_ds = concatenate_datasets([train_extracted, generated_ds])\n",
    "train_ds = train_ds.cast_column(\"image_path\", ds_img())\n",
    "train_ds.set_transform(partial(preprocess, processor=processor, CFG=CFG))\n",
    "\n",
    "# Creat validation set from only extracted examples\n",
    "\n",
    "val_gt_ds = extracted_ds.select(fold_idxs[fold])\n",
    "val_ds = val_gt_ds.cast_column(\"image_path\", ds_img())\n",
    "val_ds.set_transform(partial(preprocess, processor=processor, CFG=CFG))\n",
    "\n",
    "gt_chart_type = val_gt_ds[\"chart-type\"]\n",
    "gt_x = [json.loads(_) for _ in val_gt_ds[\"x\"]]\n",
    "gt_y = [json.loads(_) for _ in val_gt_ds[\"y\"]]\n",
    "gt_ids = val_gt_ds[\"id\"]\n",
    "\n",
    "i = 0\n",
    "print(gt_chart_type[i])\n",
    "print(gt_x[i])\n",
    "print(gt_y[i])\n",
    "print(gt_ids[i])\n",
    "print(Counter(gt_chart_type))"
   ],
   "metadata": {
    "collapsed": false,
    "ExecuteTime": {
     "end_time": "2023-05-18T13:52:58.939730Z",
     "start_time": "2023-05-18T13:52:58.896256Z"
    }
   }
  },
  {
   "cell_type": "code",
   "execution_count": 20,
   "outputs": [],
   "source": [
    "pad_token_id = processor.tokenizer.pad_token_id\n",
    "\n",
    "\n",
    "def collate_fn(samples: List[Dict[str, Union[torch.Tensor, List[int], str]]]) -> Dict[\n",
    "    str, Union[torch.Tensor, List[str]]]:\n",
    "    \"\"\"\n",
    "    Custom collate function for DataLoader.\n",
    "\n",
    "    This function takes a list of samples and combines them into a batch with\n",
    "    properly padded input_ids.\n",
    "\n",
    "    Args:\n",
    "        samples (List[Dict[str, Union[torch.Tensor, List[int], str]]]):\n",
    "            A list of samples, where each sample is a dictionary containing\n",
    "            \"pixel_values\" (torch.Tensor), \"input_ids\" (List[int]), and \"id\" (str).\n",
    "\n",
    "    Returns:\n",
    "        Dict[str, Union[torch.Tensor, List[str]]]:\n",
    "            A dictionary containing the combined pixel values, padded input_ids, and ids.\n",
    "    \"\"\"\n",
    "\n",
    "    batch = {}\n",
    "\n",
    "    batch[\"pixel_values\"] = torch.stack([x[\"pixel_values\"] for x in samples])\n",
    "\n",
    "    max_length = max([len(x[\"input_ids\"]) for x in samples])\n",
    "\n",
    "    # Make a multiple of 8 to efficiently use the tensor cores\n",
    "    if max_length % 8 != 0:\n",
    "        max_length = (max_length // 8 + 1) * 8\n",
    "\n",
    "    input_ids = [\n",
    "        x[\"input_ids\"] + [pad_token_id] * (max_length - len(x[\"input_ids\"]))\n",
    "        for x in samples\n",
    "    ]\n",
    "\n",
    "    labels = torch.tensor(input_ids)\n",
    "    labels[labels == pad_token_id] = -100  # ignore loss on padding tokens\n",
    "    batch[\"labels\"] = labels\n",
    "\n",
    "    batch[\"id\"] = [x[\"id\"] for x in samples]\n",
    "\n",
    "    return batch"
   ],
   "metadata": {
    "collapsed": false,
    "ExecuteTime": {
     "end_time": "2023-05-18T13:52:59.606144Z",
     "start_time": "2023-05-18T13:52:59.602996Z"
    }
   }
  },
  {
   "cell_type": "code",
   "execution_count": 21,
   "outputs": [
    {
     "data": {
      "text/plain": "(dict_keys(['pixel_values', 'labels', 'id']),\n [('pixel_values', torch.Size([2, 3, 560, 560])),\n  ('labels', torch.Size([2, 112]))])"
     },
     "execution_count": 21,
     "metadata": {},
     "output_type": "execute_result"
    }
   ],
   "source": [
    "if CFG.debug:\n",
    "    train_ds = train_ds.select(range(100))\n",
    "    val_ds = val_ds.select(range(100))\n",
    "\n",
    "train_dataloader = DataLoader(\n",
    "    train_ds,\n",
    "    batch_size=CFG.batch_size,\n",
    "    shuffle=True,\n",
    "    collate_fn=collate_fn,\n",
    "    num_workers=CFG.num_workers,\n",
    ")\n",
    "val_dataloader = DataLoader(\n",
    "    val_ds,\n",
    "    batch_size=CFG.batch_size,\n",
    "    shuffle=False,\n",
    "    collate_fn=collate_fn,\n",
    "    num_workers=CFG.num_workers,\n",
    ")\n",
    "\n",
    "num_training_steps = len(train_dataloader) * CFG.epochs // CFG.gpus\n",
    "\n",
    "batch = next(iter(train_dataloader))\n",
    "\n",
    "batch.keys(), [(k, v.shape) for k, v in batch.items() if k != \"id\"]"
   ],
   "metadata": {
    "collapsed": false,
    "ExecuteTime": {
     "end_time": "2023-05-18T13:53:00.604550Z",
     "start_time": "2023-05-18T13:53:00.453878Z"
    }
   }
  },
  {
   "cell_type": "code",
   "execution_count": 22,
   "outputs": [],
   "source": [
    "def rmse(y_true: List[float], y_pred: List[float]) -> float:\n",
    "    \"\"\"\n",
    "    Calculate the Root Mean Square Error (RMSE) between the true and predicted values.\n",
    "\n",
    "    Args:\n",
    "        y_true (List[float]): The true values.\n",
    "        y_pred (List[float]): The predicted values.\n",
    "\n",
    "    Returns:\n",
    "        float: The Root Mean Square Error.\n",
    "    \"\"\"\n",
    "    return np.sqrt(np.mean(np.square(np.subtract(y_true, y_pred))))\n",
    "\n",
    "\n",
    "def sigmoid(x: float) -> float:\n",
    "    \"\"\"\n",
    "    Calculate the sigmoid function for the given value.\n",
    "\n",
    "    Args:\n",
    "        x (float): The input value.\n",
    "\n",
    "    Returns:\n",
    "        float: The result of the sigmoid function.\n",
    "    \"\"\"\n",
    "    return 2 - 2 / (1 + np.exp(-x))\n",
    "\n",
    "\n",
    "def normalized_rmse(y_true: List[float], y_pred: List[float]) -> float:\n",
    "    \"\"\"\n",
    "    Calculate the normalized Root Mean Square Error (RMSE) between the true and predicted values.\n",
    "\n",
    "    Args:\n",
    "        y_true (List[float]): The true values.\n",
    "        y_pred (List[float]): The predicted values.\n",
    "\n",
    "    Returns:\n",
    "        float: The normalized Root Mean Square Error.\n",
    "    \"\"\"\n",
    "    numerator = rmse(y_true, y_pred)\n",
    "    denominator = rmse(y_true, np.mean(y_true))\n",
    "\n",
    "    # https://www.kaggle.com/competitions/benetech-making-graphs-accessible/discussion/396947\n",
    "    if denominator == 0:\n",
    "        if numerator == 0:\n",
    "            return 1.0\n",
    "        return 0.0\n",
    "\n",
    "    return sigmoid(numerator / denominator)\n",
    "\n",
    "\n",
    "def normalized_levenshtein_score(y_true: List[str], y_pred: List[str]) -> float:\n",
    "    \"\"\"\n",
    "    Calculate the normalized Levenshtein distance between two lists of strings.\n",
    "\n",
    "    Args:\n",
    "        y_true (List[str]): The true values.\n",
    "        y_pred (List[str]): The predicted values.\n",
    "\n",
    "    Returns:\n",
    "        float: The normalized Levenshtein distance.\n",
    "    \"\"\"\n",
    "    total_distance = np.sum([levenshtein(yt, yp) for yt, yp in zip(y_true, y_pred)])\n",
    "    length_sum = np.sum([len(yt) for yt in y_true])\n",
    "    return sigmoid(total_distance / length_sum)\n",
    "\n",
    "\n",
    "def score_series(\n",
    "        y_true: List[Union[float, str]], y_pred: List[Union[float, str]]\n",
    ") -> float:\n",
    "    \"\"\"\n",
    "    Calculate the score for a series of true and predicted values.\n",
    "\n",
    "    Args:\n",
    "        y_true (List[Union[float, str]]): The true values.\n",
    "        y_pred (List[Union[float, str]]): The predicted values.\n",
    "\n",
    "    Returns:\n",
    "        float: The score for the series.\n",
    "    \"\"\"\n",
    "    if len(y_true) != len(y_pred):\n",
    "        return 0.0\n",
    "    if isinstance(y_true[0], str):\n",
    "        return normalized_levenshtein_score(y_true, y_pred)\n",
    "    else:\n",
    "        # Since this is a generative model, there is a chance it doesn't produce a float.\n",
    "        # In that case, we return 0.0.\n",
    "        try:\n",
    "            return normalized_rmse(y_true, list(map(float, y_pred)))\n",
    "        except:\n",
    "            return 0.0\n",
    "\n",
    "\n",
    "def benetech_score(ground_truth: pd.DataFrame, predictions: pd.DataFrame) -> float:\n",
    "    \"\"\"Evaluate predictions using the metric from the Benetech - Making Graphs Accessible.\n",
    "\n",
    "    Parameters\n",
    "    ----------\n",
    "    ground_truth: pd.DataFrame\n",
    "        Has columns `[data_series, chart_type]` and an index `id`. Values in `data_series`\n",
    "        should be either arrays of floats or arrays of strings.\n",
    "\n",
    "    predictions: pd.DataFrame\n",
    "    \"\"\"\n",
    "    if not ground_truth.index.equals(predictions.index):\n",
    "        raise ValueError(\n",
    "            \"Must have exactly one prediction for each ground-truth instance.\"\n",
    "        )\n",
    "    if not ground_truth.columns.equals(predictions.columns):\n",
    "        raise ValueError(f\"Predictions must have columns: {ground_truth.columns}.\")\n",
    "    pairs = zip(\n",
    "        ground_truth.itertuples(index=False), predictions.itertuples(index=False)\n",
    "    )\n",
    "    scores = []\n",
    "    for (gt_series, gt_type), (pred_series, pred_type) in pairs:\n",
    "        if gt_type != pred_type:  # Check chart_type condition\n",
    "            scores.append(0.0)\n",
    "        else:  # Score with RMSE or Levenshtein as appropriate\n",
    "            scores.append(score_series(gt_series, pred_series))\n",
    "\n",
    "    ground_truth[\"score\"] = scores\n",
    "\n",
    "    grouped = ground_truth.groupby(\"chart_type\", as_index=False)[\"score\"].mean()\n",
    "\n",
    "    chart_type2score = {\n",
    "        chart_type: score\n",
    "        for chart_type, score in zip(grouped[\"chart_type\"], grouped[\"score\"])\n",
    "    }\n",
    "\n",
    "    return np.mean(scores), chart_type2score\n",
    "\n",
    "\n",
    "def string2triplet(pred_string: str) -> Tuple[str, List[str], List[str]]:\n",
    "    \"\"\"\n",
    "    Convert a prediction string to a triplet of chart type, x values, and y values.\n",
    "\n",
    "    Args:\n",
    "        pred_string (str): The prediction string.\n",
    "\n",
    "    Returns:\n",
    "        Tuple[str, List[str], List[str]]: A triplet of chart type, x values, and y values.\n",
    "    \"\"\"\n",
    "\n",
    "    chart_type = \"line\"\n",
    "    for tok in CHART_TYPE_TOKENS:\n",
    "        if tok in pred_string:\n",
    "            chart_type = tok.strip(\"<>\")\n",
    "\n",
    "    pred_string = re.sub(r\"<one>\", \"1\", pred_string)\n",
    "\n",
    "    x = pred_string.split(X_START)[1].split(X_END)[0].split(\";\")\n",
    "    y = pred_string.split(Y_START)[1].split(Y_END)[0].split(\";\")\n",
    "\n",
    "    if len(x) == 0 or len(y) == 0:\n",
    "        return chart_type, [], []\n",
    "\n",
    "    min_length = min(len(x), len(y))\n",
    "\n",
    "    x = x[:min_length]\n",
    "    y = y[:min_length]\n",
    "\n",
    "    return chart_type, x, y\n",
    "\n",
    "\n",
    "def validation_metrics(val_outputs: List[str], val_ids: List[str], gt_df: pd.DataFrame) -> Dict[str, float]:\n",
    "    \"\"\"\n",
    "    Calculate validation metrics for a set of outputs, ids, and ground truth dataframe.\n",
    "\n",
    "    Args:\n",
    "        val_outputs (List[str]): A list of validation outputs.\n",
    "        val_ids (List[str]): A list of validation ids.\n",
    "        gt_df (pd.DataFrame): The ground truth dataframe.\n",
    "\n",
    "    Returns:\n",
    "        Dict[str, float]: A dictionary containing the validation scores.\n",
    "    \"\"\"\n",
    "    pred_triplets = []\n",
    "\n",
    "    for example_output in val_outputs:\n",
    "\n",
    "        if not all([x in example_output for x in [X_START, X_END, Y_START, Y_END]]):\n",
    "            pred_triplets.append((\"line\", [], []))\n",
    "        else:\n",
    "            pred_triplets.append(string2triplet(example_output))\n",
    "\n",
    "    pred_df = pd.DataFrame(\n",
    "        index=[f\"{id_}_x\" for id_ in val_ids] + [f\"{id_}_y\" for id_ in val_ids],\n",
    "        data={\n",
    "            \"data_series\": [x[1] for x in pred_triplets]\n",
    "                           + [x[2] for x in pred_triplets],\n",
    "            \"chart_type\": [x[0] for x in pred_triplets] * 2,\n",
    "        },\n",
    "    )\n",
    "\n",
    "    overall_score, chart_type2score = benetech_score(\n",
    "        gt_df.loc[pred_df.index.values], pred_df\n",
    "    )\n",
    "\n",
    "    return {\n",
    "        \"val_score\": overall_score,\n",
    "        **{f\"{k}_score\": v for k, v in chart_type2score.items()},\n",
    "    }\n"
   ],
   "metadata": {
    "collapsed": false,
    "ExecuteTime": {
     "end_time": "2023-05-18T13:53:01.699005Z",
     "start_time": "2023-05-18T13:53:01.680151Z"
    }
   }
  },
  {
   "cell_type": "code",
   "execution_count": 28,
   "outputs": [],
   "source": [
    "import pytorch_lightning as pl\n",
    "from transformers import PreTrainedTokenizerBase, PreTrainedModel\n",
    "\n",
    "\n",
    "class DonutModelPLModule(pl.LightningModule):\n",
    "    def __init__(self, processor: PreTrainedTokenizerBase, model: PreTrainedModel, gt_df: pd.DataFrame,\n",
    "                 num_training_steps: int):\n",
    "        \"\"\"\n",
    "        A PyTorch Lightning module for the DonutModel.\n",
    "\n",
    "        Args:\n",
    "            processor (PreTrainedTokenizerBase): The tokenizer/processor for the model.\n",
    "            model (PreTrainedModel): The pretrained model.\n",
    "            gt_df (pd.DataFrame): The ground truth dataframe.\n",
    "            num_training_steps (int): The number of training steps.\n",
    "        \"\"\"\n",
    "        super().__init__()\n",
    "        self.processor = processor\n",
    "        self.model = model\n",
    "        self.gt_df = gt_df\n",
    "        self.num_training_steps = num_training_steps\n",
    "\n",
    "    def training_step(self, batch: Dict[str, torch.Tensor], batch_idx: int) -> torch.Tensor:\n",
    "        pixel_values = batch[\"pixel_values\"]\n",
    "        labels = batch[\"labels\"]\n",
    "\n",
    "        outputs = self.model(pixel_values, labels=labels)\n",
    "        loss = outputs.loss\n",
    "        self.log(\"train_loss\", loss)\n",
    "        return loss\n",
    "\n",
    "    def validation_step(self, batch: Dict[str, torch.Tensor], batch_idx: int, dataset_idx: int = 0) -> None:\n",
    "        pixel_values = batch[\"pixel_values\"]\n",
    "        batch_size = pixel_values.shape[0]\n",
    "        # we feed the prompt to the model\n",
    "        decoder_input_ids = torch.full(\n",
    "            (batch_size, 1),\n",
    "            self.model.config.decoder_start_token_id,\n",
    "            device=self.device,\n",
    "        )\n",
    "\n",
    "        outputs = self.model.generate(\n",
    "            pixel_values,\n",
    "            decoder_input_ids=decoder_input_ids,\n",
    "            max_length=CFG.max_length,\n",
    "            early_stopping=True,\n",
    "            pad_token_id=self.processor.tokenizer.pad_token_id,\n",
    "            eos_token_id=self.processor.tokenizer.eos_token_id,\n",
    "            use_cache=True,\n",
    "            num_beams=1,\n",
    "            top_k=1,\n",
    "            bad_words_ids=[[self.processor.tokenizer.unk_token_id]],\n",
    "            return_dict_in_generate=True,\n",
    "        )\n",
    "\n",
    "        self.val_outputs.extend(\n",
    "            self.processor.tokenizer.batch_decode(outputs.sequences)\n",
    "        )\n",
    "        self.val_ids.extend(batch[\"id\"])\n",
    "\n",
    "    def on_validation_start(self) -> None:\n",
    "        self.val_outputs, self.val_ids = [], []\n",
    "\n",
    "    def on_validation_epoch_end(self, outputs: List[Any]) -> None:\n",
    "        metrics = validation_metrics(self.val_outputs, self.val_ids, self.gt_df)\n",
    "        print(\"\\n\", metrics)\n",
    "\n",
    "        self.log_dict(metrics)\n",
    "\n",
    "        self.val_outputs, self.val_ids = [], []\n",
    "\n",
    "    def configure_optimizers(self) -> torch.optim.Optimizer:\n",
    "        optimizer = torch.optim.Adam(self.parameters(), lr=CFG.lr)\n",
    "\n",
    "        return optimizer"
   ],
   "metadata": {
    "collapsed": false,
    "ExecuteTime": {
     "end_time": "2023-05-18T13:54:17.777886Z",
     "start_time": "2023-05-18T13:54:17.776596Z"
    }
   }
  },
  {
   "cell_type": "code",
   "execution_count": 30,
   "outputs": [
    {
     "name": "stderr",
     "output_type": "stream",
     "text": [
      "Some weights of VisionEncoderDecoderModel were not initialized from the model checkpoint at /home/zhuyuedlut/Pretrained_Model/donut-base and are newly initialized because the shapes did not match:\n",
      "- decoder.model.decoder.embed_tokens.weight: found shape torch.Size([57525, 1024]) in the checkpoint and torch.Size([57536, 1024]) in the model instantiated\n",
      "- decoder.lm_head.weight: found shape torch.Size([57525, 1024]) in the checkpoint and torch.Size([57536, 1024]) in the model instantiated\n",
      "You should probably TRAIN this model on a down-stream task to be able to use it for predictions and inference.\n"
     ]
    }
   ],
   "source": [
    "gt_chart_type = val_gt_ds[\"chart-type\"]\n",
    "gt_x = [json.loads(_) for _ in val_gt_ds[\"x\"]]\n",
    "gt_y = [json.loads(_) for _ in val_gt_ds[\"y\"]]\n",
    "gt_ids = val_gt_ds[\"id\"]\n",
    "\n",
    "index = [f\"{id_}_x\" for id_ in gt_ids] + [f\"{id_}_y\" for id_ in gt_ids]\n",
    "gt_df = pd.DataFrame(\n",
    "    index=index,\n",
    "    data={\n",
    "        \"data_series\": gt_x + gt_y,\n",
    "        \"chart_type\": gt_chart_type * 2,\n",
    "    },\n",
    ")\n",
    "\n",
    "model = VisionEncoderDecoderModel.from_pretrained(\n",
    "    \"/home/zhuyuedlut/Pretrained_Model/donut-base\", config=config, ignore_mismatched_sizes=True\n",
    ")\n",
    "model.decoder.resize_token_embeddings(len(processor.tokenizer))\n",
    "model_module = DonutModelPLModule(processor, model, gt_df, num_training_steps)"
   ],
   "metadata": {
    "collapsed": false,
    "ExecuteTime": {
     "end_time": "2023-05-18T13:57:55.968275Z",
     "start_time": "2023-05-18T13:57:53.945597Z"
    }
   }
  },
  {
   "cell_type": "code",
   "execution_count": 31,
   "outputs": [
    {
     "name": "stderr",
     "output_type": "stream",
     "text": [
      "Using 16bit Automatic Mixed Precision (AMP)\n",
      "GPU available: True (cuda), used: True\n",
      "TPU available: False, using: 0 TPU cores\n",
      "IPU available: False, using: 0 IPUs\n",
      "HPU available: False, using: 0 HPUs\n",
      "`Trainer(val_check_interval=1.0)` was configured so validation will run at the end of the training epoch..\n",
      "You are using a CUDA device ('NVIDIA GeForce RTX 3090') that has Tensor Cores. To properly utilize them, you should set `torch.set_float32_matmul_precision('medium' | 'high')` which will trade-off precision for performance. For more details, read https://pytorch.org/docs/stable/generated/torch.set_float32_matmul_precision.html#torch.set_float32_matmul_precision\n",
      "LOCAL_RANK: 0 - CUDA_VISIBLE_DEVICES: [0,1]\n",
      "\n",
      "  | Name  | Type                      | Params\n",
      "----------------------------------------------------\n",
      "0 | model | VisionEncoderDecoderModel | 201 M \n",
      "----------------------------------------------------\n",
      "201 M     Trainable params\n",
      "0         Non-trainable params\n",
      "201 M     Total params\n",
      "807.453   Total estimated model params size (MB)\n",
      "/home/zhuyuedlut/anaconda3/envs/llm/lib/python3.10/site-packages/pytorch_lightning/trainer/connectors/data_connector.py:430: PossibleUserWarning: The dataloader, train_dataloader, does not have many workers which may be a bottleneck. Consider increasing the value of the `num_workers` argument` (try 24 which is the number of cpus on this machine) in the `DataLoader` init to improve performance.\n",
      "  rank_zero_warn(\n"
     ]
    },
    {
     "name": "stdout",
     "output_type": "stream",
     "text": [
      "Epoch 0:   6%|▌         | 1838/30149 [03:29<53:46,  8.78it/s]"
     ]
    },
    {
     "name": "stderr",
     "output_type": "stream",
     "text": [
      "/home/zhuyuedlut/anaconda3/envs/llm/lib/python3.10/site-packages/pytorch_lightning/trainer/call.py:54: UserWarning: Detected KeyboardInterrupt, attempting graceful shutdown...\n",
      "  rank_zero_warn(\"Detected KeyboardInterrupt, attempting graceful shutdown...\")\n"
     ]
    }
   ],
   "source": [
    "from pytorch_lightning.callbacks import ModelCheckpoint\n",
    "\n",
    "checkpoint_cb = ModelCheckpoint(CFG.output_path)\n",
    "\n",
    "loggers = []\n",
    "trainer = pl.Trainer(\n",
    "    accelerator=\"gpu\",\n",
    "    devices=1,\n",
    "    max_epochs=CFG.epochs,\n",
    "    val_check_interval=CFG.val_check_interval,\n",
    "    check_val_every_n_epoch=CFG.check_val_every_n_epoch,\n",
    "    gradient_clip_val=CFG.gradient_clip_val,\n",
    "    precision=16,  # if you have tensor cores (t4, v100, a100, etc.) training will be 2x faster\n",
    "    num_sanity_val_steps=5,\n",
    "    callbacks=[checkpoint_cb],\n",
    "    logger=loggers\n",
    ")\n",
    "\n",
    "trainer.fit(model_module, train_dataloaders=train_dataloader)"
   ],
   "metadata": {
    "collapsed": false,
    "ExecuteTime": {
     "end_time": "2023-05-18T14:01:25.783803Z",
     "start_time": "2023-05-18T13:57:55.962072Z"
    }
   }
  },
  {
   "cell_type": "code",
   "execution_count": null,
   "outputs": [],
   "source": [
    "trainer.validate(model_module, dataloaders=val_dataloader)"
   ],
   "metadata": {
    "collapsed": false
   }
  },
  {
   "cell_type": "code",
   "execution_count": null,
   "outputs": [],
   "source": [
    "model_module.model.save_pretrained(CFG.output_path)\n",
    "model_module.processor.save_pretrained(CFG.output_path)"
   ],
   "metadata": {
    "collapsed": false
   }
  }
 ],
 "metadata": {
  "kernelspec": {
   "display_name": "Python 3",
   "language": "python",
   "name": "python3"
  },
  "language_info": {
   "codemirror_mode": {
    "name": "ipython",
    "version": 2
   },
   "file_extension": ".py",
   "mimetype": "text/x-python",
   "name": "python",
   "nbconvert_exporter": "python",
   "pygments_lexer": "ipython2",
   "version": "2.7.6"
  }
 },
 "nbformat": 4,
 "nbformat_minor": 0
}
